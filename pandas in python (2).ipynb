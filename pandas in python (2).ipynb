{
 "cells": [
  {
   "cell_type": "markdown",
   "id": "3c189b60",
   "metadata": {},
   "source": [
    "### pandas"
   ]
  },
  {
   "cell_type": "code",
   "execution_count": 1,
   "id": "b946e328",
   "metadata": {},
   "outputs": [],
   "source": [
    "import pandas as pd"
   ]
  },
  {
   "cell_type": "code",
   "execution_count": 2,
   "id": "38421aba",
   "metadata": {},
   "outputs": [
    {
     "data": {
      "text/plain": [
       "0    12\n",
       "1    12\n",
       "2     1\n",
       "3    32\n",
       "4    14\n",
       "5    16\n",
       "dtype: int64"
      ]
     },
     "execution_count": 2,
     "metadata": {},
     "output_type": "execute_result"
    }
   ],
   "source": [
    "#creating pandas using series\n",
    "panda=pd.Series([12,12,1,32,14,16])\n",
    "panda"
   ]
  },
  {
   "cell_type": "code",
   "execution_count": 3,
   "id": "c29c2c99",
   "metadata": {},
   "outputs": [],
   "source": [
    "import numpy as np\n"
   ]
  },
  {
   "cell_type": "code",
   "execution_count": 5,
   "id": "4e19efbe",
   "metadata": {},
   "outputs": [
    {
     "data": {
      "text/plain": [
       "0    abc\n",
       "1    def\n",
       "2    ghi\n",
       "dtype: object"
      ]
     },
     "execution_count": 5,
     "metadata": {},
     "output_type": "execute_result"
    }
   ],
   "source": [
    "#creating pandas using numpy array\n",
    "new_panda=pd.Series(np.array([\"abc\",\"def\",\"ghi\"]))\n",
    "new_panda"
   ]
  },
  {
   "cell_type": "code",
   "execution_count": 9,
   "id": "583130a2",
   "metadata": {},
   "outputs": [],
   "source": [
    "#setting an index value\n",
    "customised_index=pd.Series(np.array([\"apple\",\"orange\",\"pineapple\",\"strawberry\"]),index=np.arange(0,8,2))\n"
   ]
  },
  {
   "cell_type": "code",
   "execution_count": 10,
   "id": "c6281f6e",
   "metadata": {},
   "outputs": [
    {
     "data": {
      "text/plain": [
       "0         apple\n",
       "2        orange\n",
       "4     pineapple\n",
       "6    strawberry\n",
       "dtype: object"
      ]
     },
     "execution_count": 10,
     "metadata": {},
     "output_type": "execute_result"
    }
   ],
   "source": [
    "customised_index"
   ]
  },
  {
   "cell_type": "code",
   "execution_count": 11,
   "id": "36c1a023",
   "metadata": {},
   "outputs": [
    {
     "data": {
      "text/plain": [
       "A1         apple\n",
       "A2        orange\n",
       "A3     pineapple\n",
       "A4    strawberry\n",
       "dtype: object"
      ]
     },
     "execution_count": 11,
     "metadata": {},
     "output_type": "execute_result"
    }
   ],
   "source": [
    "string_index=pd.Series(np.array([\"apple\",\"orange\",\"pineapple\",\"strawberry\"]),index=['A1','A2','A3','A4'])\n",
    "string_index"
   ]
  },
  {
   "cell_type": "code",
   "execution_count": 15,
   "id": "caec6272",
   "metadata": {},
   "outputs": [],
   "source": [
    "#creating pandas series using dictionaries\n",
    "new_dict={\"fruits\":[\"apple\",\"orange\"],\"vegetables\":[\"carrot\",\"beans\"],\"chocolate\":\"dairymilk\"}\n",
    "grocery=pd.Series(new_dict)"
   ]
  },
  {
   "cell_type": "code",
   "execution_count": 16,
   "id": "5286705c",
   "metadata": {},
   "outputs": [
    {
     "data": {
      "text/plain": [
       "fruits        [apple, orange]\n",
       "vegetables    [carrot, beans]\n",
       "chocolate           dairymilk\n",
       "dtype: object"
      ]
     },
     "execution_count": 16,
     "metadata": {},
     "output_type": "execute_result"
    }
   ],
   "source": [
    "grocery               #keys as index and values as values"
   ]
  },
  {
   "cell_type": "code",
   "execution_count": 17,
   "id": "abbbab77",
   "metadata": {},
   "outputs": [
    {
     "ename": "TypeError",
     "evalue": "'Index' object is not callable",
     "output_type": "error",
     "traceback": [
      "\u001b[1;31m---------------------------------------------------------------------------\u001b[0m",
      "\u001b[1;31mTypeError\u001b[0m                                 Traceback (most recent call last)",
      "\u001b[1;32m<ipython-input-17-034c7594218b>\u001b[0m in \u001b[0;36m<module>\u001b[1;34m\u001b[0m\n\u001b[1;32m----> 1\u001b[1;33m \u001b[0mgrocery\u001b[0m\u001b[1;33m.\u001b[0m\u001b[0mindex\u001b[0m\u001b[1;33m(\u001b[0m\u001b[1;33m)\u001b[0m\u001b[1;33m\u001b[0m\u001b[1;33m\u001b[0m\u001b[0m\n\u001b[0m",
      "\u001b[1;31mTypeError\u001b[0m: 'Index' object is not callable"
     ]
    }
   ],
   "source": [
    "grocery.index()"
   ]
  },
  {
   "cell_type": "code",
   "execution_count": 19,
   "id": "12dbe4a7",
   "metadata": {},
   "outputs": [
    {
     "data": {
      "text/plain": [
       "Index(['fruits', 'vegetables', 'chocolate'], dtype='object')"
      ]
     },
     "execution_count": 19,
     "metadata": {},
     "output_type": "execute_result"
    }
   ],
   "source": [
    "grocery.index"
   ]
  },
  {
   "cell_type": "code",
   "execution_count": 20,
   "id": "dae5df3f",
   "metadata": {},
   "outputs": [
    {
     "data": {
      "text/plain": [
       "array([list(['apple', 'orange']), list(['carrot', 'beans']), 'dairymilk'],\n",
       "      dtype=object)"
      ]
     },
     "execution_count": 20,
     "metadata": {},
     "output_type": "execute_result"
    }
   ],
   "source": [
    "grocery.values"
   ]
  },
  {
   "cell_type": "code",
   "execution_count": 22,
   "id": "5d484f41",
   "metadata": {},
   "outputs": [
    {
     "data": {
      "text/plain": [
       "0    12\n",
       "1    12\n",
       "2     1\n",
       "3    32\n",
       "4    14\n",
       "dtype: int64"
      ]
     },
     "execution_count": 22,
     "metadata": {},
     "output_type": "execute_result"
    }
   ],
   "source": [
    "panda[:5]        #accessing series elements"
   ]
  },
  {
   "cell_type": "code",
   "execution_count": 23,
   "id": "c2abd0a6",
   "metadata": {},
   "outputs": [
    {
     "data": {
      "text/plain": [
       "5    16\n",
       "4    14\n",
       "3    32\n",
       "2     1\n",
       "1    12\n",
       "0    12\n",
       "dtype: int64"
      ]
     },
     "execution_count": 23,
     "metadata": {},
     "output_type": "execute_result"
    }
   ],
   "source": [
    "panda[::-1]"
   ]
  },
  {
   "cell_type": "code",
   "execution_count": 24,
   "id": "d909f5ab",
   "metadata": {},
   "outputs": [
    {
     "data": {
      "text/plain": [
       "1    12\n",
       "2     1\n",
       "3    32\n",
       "4    14\n",
       "5    16\n",
       "dtype: int64"
      ]
     },
     "execution_count": 24,
     "metadata": {},
     "output_type": "execute_result"
    }
   ],
   "source": [
    "panda[-5:]            #retrieve last 5 elements with index"
   ]
  },
  {
   "cell_type": "code",
   "execution_count": 25,
   "id": "86c99fc5",
   "metadata": {},
   "outputs": [
    {
     "data": {
      "text/plain": [
       "['apple', 'orange']"
      ]
     },
     "execution_count": 25,
     "metadata": {},
     "output_type": "execute_result"
    }
   ],
   "source": [
    "grocery['fruits']          \n",
    "#accessing using index"
   ]
  },
  {
   "cell_type": "code",
   "execution_count": 26,
   "id": "88c49cc2",
   "metadata": {},
   "outputs": [
    {
     "data": {
      "text/plain": [
       "fruits        [apple, orange]\n",
       "vegetables    [carrot, beans]\n",
       "dtype: object"
      ]
     },
     "execution_count": 26,
     "metadata": {},
     "output_type": "execute_result"
    }
   ],
   "source": [
    "grocery[['fruits','vegetables']]"
   ]
  },
  {
   "cell_type": "code",
   "execution_count": 27,
   "id": "5656b98e",
   "metadata": {},
   "outputs": [
    {
     "data": {
      "text/plain": [
       "3    32\n",
       "5    16\n",
       "dtype: int64"
      ]
     },
     "execution_count": 27,
     "metadata": {},
     "output_type": "execute_result"
    }
   ],
   "source": [
    "panda[panda>14]             #satisfying the given conditions   #filtering"
   ]
  },
  {
   "cell_type": "markdown",
   "id": "b3875da6",
   "metadata": {},
   "source": [
    "###arithmetic operations"
   ]
  },
  {
   "cell_type": "code",
   "execution_count": 28,
   "id": "5449435a",
   "metadata": {},
   "outputs": [
    {
     "data": {
      "text/plain": [
       "0    24\n",
       "1    24\n",
       "2     2\n",
       "3    64\n",
       "4    28\n",
       "5    32\n",
       "dtype: int64"
      ]
     },
     "execution_count": 28,
     "metadata": {},
     "output_type": "execute_result"
    }
   ],
   "source": [
    "panda*2"
   ]
  },
  {
   "cell_type": "code",
   "execution_count": 31,
   "id": "00fe96da",
   "metadata": {},
   "outputs": [
    {
     "data": {
      "text/plain": [
       "0    5\n",
       "1    4\n",
       "2    3\n",
       "3    2\n",
       "dtype: int64"
      ]
     },
     "execution_count": 31,
     "metadata": {},
     "output_type": "execute_result"
    }
   ],
   "source": [
    "a1=pd.Series([1,2,3,4])\n",
    "a2=pd.Series([5,4,3,2])\n",
    "a2\n"
   ]
  },
  {
   "cell_type": "code",
   "execution_count": 32,
   "id": "9211aadb",
   "metadata": {},
   "outputs": [],
   "source": [
    "a2=a1+a2      #addition"
   ]
  },
  {
   "cell_type": "code",
   "execution_count": 33,
   "id": "f761a28c",
   "metadata": {},
   "outputs": [
    {
     "data": {
      "text/plain": [
       "0    6\n",
       "1    6\n",
       "2    6\n",
       "3    6\n",
       "dtype: int64"
      ]
     },
     "execution_count": 33,
     "metadata": {},
     "output_type": "execute_result"
    }
   ],
   "source": [
    "a2"
   ]
  },
  {
   "cell_type": "code",
   "execution_count": 34,
   "id": "dca5eb47",
   "metadata": {},
   "outputs": [
    {
     "data": {
      "text/plain": [
       "0     6\n",
       "1    12\n",
       "2    18\n",
       "3    24\n",
       "dtype: int64"
      ]
     },
     "execution_count": 34,
     "metadata": {},
     "output_type": "execute_result"
    }
   ],
   "source": [
    "a4=a1.multiply(a2)\n",
    "a4                                     #multiplication"
   ]
  },
  {
   "cell_type": "code",
   "execution_count": 41,
   "id": "211c7626",
   "metadata": {
    "scrolled": true
   },
   "outputs": [
    {
     "data": {
      "text/plain": [
       "2     4.0\n",
       "0    13.0\n",
       "1    14.0\n",
       "3    36.0\n",
       "4     NaN\n",
       "5     NaN\n",
       "dtype: float64"
      ]
     },
     "execution_count": 41,
     "metadata": {},
     "output_type": "execute_result"
    }
   ],
   "source": [
    "a5=a1+panda             #NAN------------>not a number\n",
    "a5\n",
    "a5.sort_values(ascending=True,na_position='last')         #returns the null values at the very end"
   ]
  },
  {
   "cell_type": "code",
   "execution_count": 36,
   "id": "66cced79",
   "metadata": {},
   "outputs": [
    {
     "data": {
      "text/plain": [
       "0    2.5\n",
       "1    2.5\n",
       "2    1.0\n",
       "3    6.0\n",
       "4    4.0\n",
       "5    5.0\n",
       "dtype: float64"
      ]
     },
     "execution_count": 36,
     "metadata": {},
     "output_type": "execute_result"
    }
   ],
   "source": [
    "panda.rank()            #returns the rank "
   ]
  },
  {
   "cell_type": "code",
   "execution_count": 37,
   "id": "5a3270eb",
   "metadata": {},
   "outputs": [
    {
     "data": {
      "text/plain": [
       "2     1\n",
       "0    12\n",
       "1    12\n",
       "4    14\n",
       "5    16\n",
       "3    32\n",
       "dtype: int64"
      ]
     },
     "execution_count": 37,
     "metadata": {},
     "output_type": "execute_result"
    }
   ],
   "source": [
    "panda.sort_values()               #sorting function"
   ]
  },
  {
   "cell_type": "code",
   "execution_count": 38,
   "id": "6367e338",
   "metadata": {},
   "outputs": [
    {
     "data": {
      "text/plain": [
       "3    32\n",
       "5    16\n",
       "4    14\n",
       "0    12\n",
       "1    12\n",
       "2     1\n",
       "dtype: int64"
      ]
     },
     "execution_count": 38,
     "metadata": {},
     "output_type": "execute_result"
    }
   ],
   "source": [
    "panda.sort_values(ascending=False)   "
   ]
  },
  {
   "cell_type": "code",
   "execution_count": 44,
   "id": "ded04992",
   "metadata": {},
   "outputs": [
    {
     "data": {
      "text/plain": [
       "6    strawberry\n",
       "4     pineapple\n",
       "2        orange\n",
       "0         apple\n",
       "dtype: object"
      ]
     },
     "execution_count": 44,
     "metadata": {},
     "output_type": "execute_result"
    }
   ],
   "source": [
    "customised_index.sort_index(ascending=False)         #sorting the index values"
   ]
  },
  {
   "cell_type": "code",
   "execution_count": 45,
   "id": "5e725a36",
   "metadata": {},
   "outputs": [
    {
     "data": {
      "text/plain": [
       "0    False\n",
       "1    False\n",
       "2    False\n",
       "3    False\n",
       "4     True\n",
       "5     True\n",
       "dtype: bool"
      ]
     },
     "execution_count": 45,
     "metadata": {},
     "output_type": "execute_result"
    }
   ],
   "source": [
    "a5.isnull()         # checks for the null values"
   ]
  },
  {
   "cell_type": "code",
   "execution_count": 46,
   "id": "2c21f85d",
   "metadata": {},
   "outputs": [
    {
     "data": {
      "text/plain": [
       "0     True\n",
       "1     True\n",
       "2     True\n",
       "3     True\n",
       "4    False\n",
       "5    False\n",
       "dtype: bool"
      ]
     },
     "execution_count": 46,
     "metadata": {},
     "output_type": "execute_result"
    }
   ],
   "source": [
    "a5.notnull()"
   ]
  },
  {
   "cell_type": "code",
   "execution_count": 50,
   "id": "82d321e1",
   "metadata": {},
   "outputs": [],
   "source": [
    "class1=np.linspace(0,20,11)\n",
    "class2=np.linspace(0,30,11)"
   ]
  },
  {
   "cell_type": "code",
   "execution_count": 51,
   "id": "c686c6c4",
   "metadata": {},
   "outputs": [
    {
     "name": "stdout",
     "output_type": "stream",
     "text": [
      "0      0.0\n",
      "1      2.0\n",
      "2      4.0\n",
      "3      6.0\n",
      "4      8.0\n",
      "5     10.0\n",
      "6     12.0\n",
      "7     14.0\n",
      "8     16.0\n",
      "9     18.0\n",
      "10    20.0\n",
      "dtype: float64\n",
      "0      0.0\n",
      "1      3.0\n",
      "2      6.0\n",
      "3      9.0\n",
      "4     12.0\n",
      "5     15.0\n",
      "6     18.0\n",
      "7     21.0\n",
      "8     24.0\n",
      "9     27.0\n",
      "10    30.0\n",
      "dtype: float64\n"
     ]
    }
   ],
   "source": [
    "c1=pd.Series(data=class1)\n",
    "c2=pd.Series(data=class2)\n",
    "print(c1)\n",
    "print(c2)"
   ]
  },
  {
   "cell_type": "code",
   "execution_count": 53,
   "id": "d27f0776",
   "metadata": {},
   "outputs": [
    {
     "data": {
      "text/plain": [
       "0      0.0\n",
       "1      2.0\n",
       "2      4.0\n",
       "3      6.0\n",
       "4      8.0\n",
       "5     10.0\n",
       "6     12.0\n",
       "7     14.0\n",
       "8     16.0\n",
       "9     18.0\n",
       "10    20.0\n",
       "0      0.0\n",
       "1      3.0\n",
       "2      6.0\n",
       "3      9.0\n",
       "4     12.0\n",
       "5     15.0\n",
       "6     18.0\n",
       "7     21.0\n",
       "8     24.0\n",
       "9     27.0\n",
       "10    30.0\n",
       "dtype: float64"
      ]
     },
     "execution_count": 53,
     "metadata": {},
     "output_type": "execute_result"
    }
   ],
   "source": [
    "pd.concat([c1,c2])"
   ]
  },
  {
   "cell_type": "code",
   "execution_count": 55,
   "id": "925ca1b2",
   "metadata": {},
   "outputs": [
    {
     "data": {
      "text/plain": [
       "new  old\n",
       "a    0       0.0\n",
       "     1       2.0\n",
       "     2       4.0\n",
       "     3       6.0\n",
       "     4       8.0\n",
       "     5      10.0\n",
       "     6      12.0\n",
       "     7      14.0\n",
       "     8      16.0\n",
       "     9      18.0\n",
       "     10     20.0\n",
       "b    0       0.0\n",
       "     1       3.0\n",
       "     2       6.0\n",
       "     3       9.0\n",
       "     4      12.0\n",
       "     5      15.0\n",
       "     6      18.0\n",
       "     7      21.0\n",
       "     8      24.0\n",
       "     9      27.0\n",
       "     10     30.0\n",
       "dtype: float64"
      ]
     },
     "execution_count": 55,
     "metadata": {},
     "output_type": "execute_result"
    }
   ],
   "source": [
    "pd.concat([c1,c2],keys=['a','b'],names=['new','old'])"
   ]
  },
  {
   "cell_type": "code",
   "execution_count": 56,
   "id": "b3b61f3d",
   "metadata": {},
   "outputs": [
    {
     "data": {
      "text/plain": [
       "0      0.0\n",
       "1      2.0\n",
       "2      4.0\n",
       "3      6.0\n",
       "4      8.0\n",
       "5     10.0\n",
       "6     12.0\n",
       "7     14.0\n",
       "8     16.0\n",
       "9     18.0\n",
       "10    20.0\n",
       "0      0.0\n",
       "1      3.0\n",
       "2      6.0\n",
       "3      9.0\n",
       "4     12.0\n",
       "5     15.0\n",
       "6     18.0\n",
       "7     21.0\n",
       "8     24.0\n",
       "9     27.0\n",
       "10    30.0\n",
       "dtype: float64"
      ]
     },
     "execution_count": 56,
     "metadata": {},
     "output_type": "execute_result"
    }
   ],
   "source": [
    "c1.append(c2)                #index value nver changes"
   ]
  },
  {
   "cell_type": "code",
   "execution_count": null,
   "id": "6d9167c5",
   "metadata": {},
   "outputs": [],
   "source": []
  }
 ],
 "metadata": {
  "kernelspec": {
   "display_name": "Python 3",
   "language": "python",
   "name": "python3"
  },
  "language_info": {
   "codemirror_mode": {
    "name": "ipython",
    "version": 3
   },
   "file_extension": ".py",
   "mimetype": "text/x-python",
   "name": "python",
   "nbconvert_exporter": "python",
   "pygments_lexer": "ipython3",
   "version": "3.8.8"
  }
 },
 "nbformat": 4,
 "nbformat_minor": 5
}
