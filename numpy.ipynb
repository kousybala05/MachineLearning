{
 "cells": [
  {
   "cell_type": "markdown",
   "id": "bca718e9",
   "metadata": {},
   "source": [
    "# Numpy : Package  for multi dimensional array\n",
    "  # Numpy--->numerical python"
   ]
  },
  {
   "cell_type": "code",
   "execution_count": 1,
   "id": "a5916ffc",
   "metadata": {},
   "outputs": [],
   "source": [
    "import numpy as np"
   ]
  },
  {
   "cell_type": "code",
   "execution_count": 2,
   "id": "abee08c3",
   "metadata": {},
   "outputs": [
    {
     "data": {
      "text/plain": [
       "array([1, 2, 3, 4, 5, 6])"
      ]
     },
     "execution_count": 2,
     "metadata": {},
     "output_type": "execute_result"
    }
   ],
   "source": [
    "#creating a array using numpy\n",
    "\n",
    "num_list=np.array([1,2,3,4,5,6])\n",
    "num_list"
   ]
  },
  {
   "cell_type": "code",
   "execution_count": 3,
   "id": "46d379bc",
   "metadata": {},
   "outputs": [
    {
     "data": {
      "text/plain": [
       "numpy.ndarray"
      ]
     },
     "execution_count": 3,
     "metadata": {},
     "output_type": "execute_result"
    }
   ],
   "source": [
    "type(num_list)"
   ]
  },
  {
   "cell_type": "code",
   "execution_count": 4,
   "id": "9994467b",
   "metadata": {},
   "outputs": [
    {
     "data": {
      "text/plain": [
       "numpy.ndarray"
      ]
     },
     "execution_count": 4,
     "metadata": {},
     "output_type": "execute_result"
    }
   ],
   "source": [
    "#creating a array  using numpy      #single dimension\n",
    "\n",
    "new_list=[6,4,8,3,6]\n",
    "arr=np.array(new_list)\n",
    "type(arr)\n"
   ]
  },
  {
   "cell_type": "code",
   "execution_count": 13,
   "id": "de4129de",
   "metadata": {},
   "outputs": [
    {
     "data": {
      "text/plain": [
       "array([[1, 2, 3],\n",
       "       [4, 5, 6],\n",
       "       [7, 8, 9]])"
      ]
     },
     "execution_count": 13,
     "metadata": {},
     "output_type": "execute_result"
    }
   ],
   "source": [
    "new_lst=([1,2,3],[4,5,6],[7,8,9])          #multidimensional array\n",
    "new_lst\n",
    "new_arr=np.array(new_lst)\n",
    "new_arr"
   ]
  },
  {
   "cell_type": "code",
   "execution_count": 7,
   "id": "f1d0585c",
   "metadata": {},
   "outputs": [
    {
     "data": {
      "text/plain": [
       "array([ 0,  1,  2,  3,  4,  5,  6,  7,  8,  9, 10, 11, 12, 13, 14, 15, 16,\n",
       "       17, 18, 19, 20])"
      ]
     },
     "execution_count": 7,
     "metadata": {},
     "output_type": "execute_result"
    }
   ],
   "source": [
    "np.arange(0,21)         #creating a array using range "
   ]
  },
  {
   "cell_type": "code",
   "execution_count": 8,
   "id": "b6b88c7f",
   "metadata": {},
   "outputs": [
    {
     "data": {
      "text/plain": [
       "array([ 5,  8, 11, 14, 17, 20])"
      ]
     },
     "execution_count": 8,
     "metadata": {},
     "output_type": "execute_result"
    }
   ],
   "source": [
    "np.arange(5,21,3)        #(start,stop,step)"
   ]
  },
  {
   "cell_type": "code",
   "execution_count": 9,
   "id": "6ba80e3a",
   "metadata": {},
   "outputs": [
    {
     "data": {
      "text/plain": [
       "array([0., 0.])"
      ]
     },
     "execution_count": 9,
     "metadata": {},
     "output_type": "execute_result"
    }
   ],
   "source": [
    "np.zeros(2)         #creating array with all zeros"
   ]
  },
  {
   "cell_type": "code",
   "execution_count": 10,
   "id": "c2d18e20",
   "metadata": {},
   "outputs": [
    {
     "data": {
      "text/plain": [
       "array([0, 0, 0, 0, 0])"
      ]
     },
     "execution_count": 10,
     "metadata": {},
     "output_type": "execute_result"
    }
   ],
   "source": [
    "np.zeros(5,dtype=int)"
   ]
  },
  {
   "cell_type": "code",
   "execution_count": 12,
   "id": "684c0d1c",
   "metadata": {},
   "outputs": [
    {
     "data": {
      "text/plain": [
       "array([[0, 0, 0, 0, 0, 0],\n",
       "       [0, 0, 0, 0, 0, 0],\n",
       "       [0, 0, 0, 0, 0, 0]])"
      ]
     },
     "execution_count": 12,
     "metadata": {},
     "output_type": "execute_result"
    }
   ],
   "source": [
    "np.zeros((3,6),dtype=int)        #creating array with all values as zeros in multidimention"
   ]
  },
  {
   "cell_type": "code",
   "execution_count": 14,
   "id": "00c77958",
   "metadata": {},
   "outputs": [
    {
     "data": {
      "text/plain": [
       "array([[1, 1, 1, 1, 1],\n",
       "       [1, 1, 1, 1, 1],\n",
       "       [1, 1, 1, 1, 1]])"
      ]
     },
     "execution_count": 14,
     "metadata": {},
     "output_type": "execute_result"
    }
   ],
   "source": [
    "np.ones(5)\n",
    "np.ones((3,5),dtype=int)"
   ]
  },
  {
   "cell_type": "code",
   "execution_count": 15,
   "id": "55481924",
   "metadata": {},
   "outputs": [
    {
     "data": {
      "text/plain": [
       "array([ 0.        ,  2.22222222,  4.44444444,  6.66666667,  8.88888889,\n",
       "       11.11111111, 13.33333333, 15.55555556, 17.77777778, 20.        ])"
      ]
     },
     "execution_count": 15,
     "metadata": {},
     "output_type": "execute_result"
    }
   ],
   "source": [
    "np.linspace(0,20,10)         #linear spacing"
   ]
  },
  {
   "cell_type": "code",
   "execution_count": 19,
   "id": "7ceebea3",
   "metadata": {},
   "outputs": [
    {
     "data": {
      "text/plain": [
       "array([ 0.        ,  0.71428571,  1.42857143,  2.14285714,  2.85714286,\n",
       "        3.57142857,  4.28571429,  5.        ,  5.71428571,  6.42857143,\n",
       "        7.14285714,  7.85714286,  8.57142857,  9.28571429, 10.        ])"
      ]
     },
     "execution_count": 19,
     "metadata": {},
     "output_type": "execute_result"
    }
   ],
   "source": [
    "np.linspace(0,10,15)  "
   ]
  },
  {
   "cell_type": "code",
   "execution_count": 20,
   "id": "900527b1",
   "metadata": {},
   "outputs": [
    {
     "data": {
      "text/plain": [
       "array([[1., 0., 0., 0., 0., 0., 0.],\n",
       "       [0., 1., 0., 0., 0., 0., 0.],\n",
       "       [0., 0., 1., 0., 0., 0., 0.],\n",
       "       [0., 0., 0., 1., 0., 0., 0.],\n",
       "       [0., 0., 0., 0., 1., 0., 0.],\n",
       "       [0., 0., 0., 0., 0., 1., 0.],\n",
       "       [0., 0., 0., 0., 0., 0., 1.]])"
      ]
     },
     "execution_count": 20,
     "metadata": {},
     "output_type": "execute_result"
    }
   ],
   "source": [
    "np.eye(7)               #identity matrix"
   ]
  },
  {
   "cell_type": "code",
   "execution_count": 21,
   "id": "05f3b267",
   "metadata": {},
   "outputs": [
    {
     "data": {
      "text/plain": [
       "array([[1., 0., 0., 0.],\n",
       "       [0., 1., 0., 0.],\n",
       "       [0., 0., 1., 0.],\n",
       "       [0., 0., 0., 1.]])"
      ]
     },
     "execution_count": 21,
     "metadata": {},
     "output_type": "execute_result"
    }
   ],
   "source": [
    "np.identity(4)"
   ]
  },
  {
   "cell_type": "code",
   "execution_count": 22,
   "id": "a2ca155f",
   "metadata": {},
   "outputs": [
    {
     "data": {
      "text/plain": [
       "array([[1., 0., 0., 0.],\n",
       "       [0., 1., 0., 0.],\n",
       "       [0., 0., 1., 0.]])"
      ]
     },
     "execution_count": 22,
     "metadata": {},
     "output_type": "execute_result"
    }
   ],
   "source": [
    "np.eye(3,4)"
   ]
  },
  {
   "cell_type": "code",
   "execution_count": 23,
   "id": "54b0d910",
   "metadata": {},
   "outputs": [
    {
     "data": {
      "text/plain": [
       "array([[0., 0., 0., 0., 0., 0.],\n",
       "       [0., 0., 0., 0., 0., 0.],\n",
       "       [1., 0., 0., 0., 0., 0.],\n",
       "       [0., 1., 0., 0., 0., 0.]])"
      ]
     },
     "execution_count": 23,
     "metadata": {},
     "output_type": "execute_result"
    }
   ],
   "source": [
    "np.eye(4,6,k=-2)"
   ]
  },
  {
   "cell_type": "code",
   "execution_count": 24,
   "id": "03ab7e38",
   "metadata": {},
   "outputs": [
    {
     "data": {
      "text/plain": [
       "array([[0., 0., 0., 1., 0.],\n",
       "       [0., 0., 0., 0., 1.]])"
      ]
     },
     "execution_count": 24,
     "metadata": {},
     "output_type": "execute_result"
    }
   ],
   "source": [
    "np.eye(2,5,k=3)"
   ]
  },
  {
   "cell_type": "code",
   "execution_count": 27,
   "id": "be9ad90b",
   "metadata": {},
   "outputs": [
    {
     "data": {
      "text/plain": [
       "array([[0.81130449, 0.57091116, 0.86979014, 0.06194151, 0.23444149,\n",
       "        0.92557296, 0.39042089],\n",
       "       [0.84224622, 0.91153812, 0.5271725 , 0.16707678, 0.28977258,\n",
       "        0.32690779, 0.28265097],\n",
       "       [0.3533059 , 0.75347844, 0.38866606, 0.85403366, 0.2083252 ,\n",
       "        0.92359577, 0.10267584],\n",
       "       [0.09803509, 0.56910482, 0.30303591, 0.91016678, 0.66336901,\n",
       "        0.8002601 , 0.32847813],\n",
       "       [0.34523631, 0.77642236, 0.17714231, 0.30920928, 0.4522703 ,\n",
       "        0.1007168 , 0.03333578]])"
      ]
     },
     "execution_count": 27,
     "metadata": {},
     "output_type": "execute_result"
    }
   ],
   "source": [
    "np.random.rand(5,7)        #random values with 5rows and 7 column ranging from 0 and 1"
   ]
  },
  {
   "cell_type": "code",
   "execution_count": 26,
   "id": "73a8506f",
   "metadata": {},
   "outputs": [
    {
     "data": {
      "text/plain": [
       "array([[ 0.8182339 ,  0.36190972,  0.16783935, -0.11175337, -1.36383068],\n",
       "       [ 1.91001126,  1.12603518,  0.03495089, -0.19994195, -0.32782604],\n",
       "       [-0.38691879,  0.2010615 ,  1.44559445,  1.11205586,  0.30009426]])"
      ]
     },
     "execution_count": 26,
     "metadata": {},
     "output_type": "execute_result"
    }
   ],
   "source": [
    "np.random.randn(3,5)           #random values with 3 rows and 5 column with -ve and +ve values"
   ]
  },
  {
   "cell_type": "code",
   "execution_count": 31,
   "id": "1a20b394",
   "metadata": {},
   "outputs": [
    {
     "data": {
      "text/plain": [
       "3"
      ]
     },
     "execution_count": 31,
     "metadata": {},
     "output_type": "execute_result"
    }
   ],
   "source": [
    "np.random.randint(2,5)"
   ]
  },
  {
   "cell_type": "code",
   "execution_count": 32,
   "id": "4e7ac2e1",
   "metadata": {},
   "outputs": [
    {
     "data": {
      "text/plain": [
       "array([4, 2])"
      ]
     },
     "execution_count": 32,
     "metadata": {},
     "output_type": "execute_result"
    }
   ],
   "source": [
    "np.random.randint(2,5,2)"
   ]
  },
  {
   "cell_type": "code",
   "execution_count": 33,
   "id": "462c4a92",
   "metadata": {},
   "outputs": [
    {
     "data": {
      "text/plain": [
       "array([56, 30, 50, 82])"
      ]
     },
     "execution_count": 33,
     "metadata": {},
     "output_type": "execute_result"
    }
   ],
   "source": [
    "np.random.randint(10,100,4)         #(start , end , rows)"
   ]
  },
  {
   "cell_type": "code",
   "execution_count": 34,
   "id": "bb907c84",
   "metadata": {},
   "outputs": [
    {
     "data": {
      "text/plain": [
       "array([[182, 129,  50],\n",
       "       [103, 120,  15]])"
      ]
     },
     "execution_count": 34,
     "metadata": {},
     "output_type": "execute_result"
    }
   ],
   "source": [
    "np.random.randint(5,200,(2,3))\n",
    "#gives the random values between 5 and 199 with 2 rowws and 3 column"
   ]
  },
  {
   "cell_type": "code",
   "execution_count": 37,
   "id": "873c4610",
   "metadata": {},
   "outputs": [],
   "source": [
    "array_new=np.arange(0,201)"
   ]
  },
  {
   "cell_type": "code",
   "execution_count": 39,
   "id": "52f79453",
   "metadata": {},
   "outputs": [
    {
     "data": {
      "text/plain": [
       "0"
      ]
     },
     "execution_count": 39,
     "metadata": {},
     "output_type": "execute_result"
    }
   ],
   "source": [
    "array_new.min()            #returns the minimum value"
   ]
  },
  {
   "cell_type": "code",
   "execution_count": 41,
   "id": "ac0943b8",
   "metadata": {},
   "outputs": [
    {
     "data": {
      "text/plain": [
       "0"
      ]
     },
     "execution_count": 41,
     "metadata": {},
     "output_type": "execute_result"
    }
   ],
   "source": [
    "array_new.argmin()"
   ]
  },
  {
   "cell_type": "code",
   "execution_count": 42,
   "id": "c42efd3f",
   "metadata": {},
   "outputs": [
    {
     "data": {
      "text/plain": [
       "200"
      ]
     },
     "execution_count": 42,
     "metadata": {},
     "output_type": "execute_result"
    }
   ],
   "source": [
    "array_new.max()"
   ]
  },
  {
   "cell_type": "code",
   "execution_count": 43,
   "id": "d6679f44",
   "metadata": {},
   "outputs": [
    {
     "data": {
      "text/plain": [
       "200"
      ]
     },
     "execution_count": 43,
     "metadata": {},
     "output_type": "execute_result"
    }
   ],
   "source": [
    "array_new.argmax()        #returns index of the maximum value"
   ]
  },
  {
   "cell_type": "code",
   "execution_count": 44,
   "id": "4ec35f35",
   "metadata": {},
   "outputs": [
    {
     "data": {
      "text/plain": [
       "array([  0,   1,   2,   3,   4,   5,   6,   7,   8,   9,  10,  11,  12,\n",
       "        13,  14,  15,  16,  17,  18,  19,  20,  21,  22,  23,  24,  25,\n",
       "        26,  27,  28,  29,  30,  31,  32,  33,  34,  35,  36,  37,  38,\n",
       "        39,  40,  41,  42,  43,  44,  45,  46,  47,  48,  49,  50,  51,\n",
       "        52,  53,  54,  55,  56,  57,  58,  59,  60,  61,  62,  63,  64,\n",
       "        65,  66,  67,  68,  69,  70,  71,  72,  73,  74,  75,  76,  77,\n",
       "        78,  79,  80,  81,  82,  83,  84,  85,  86,  87,  88,  89,  90,\n",
       "        91,  92,  93,  94,  95,  96,  97,  98,  99, 100, 101, 102, 103,\n",
       "       104, 105, 106, 107, 108, 109, 110, 111, 112, 113, 114, 115, 116,\n",
       "       117, 118, 119, 120, 121, 122, 123, 124, 125, 126, 127, 128, 129,\n",
       "       130, 131, 132, 133, 134, 135, 136, 137, 138, 139, 140, 141, 142,\n",
       "       143, 144, 145, 146, 147, 148, 149, 150, 151, 152, 153, 154, 155,\n",
       "       156, 157, 158, 159, 160, 161, 162, 163, 164, 165, 166, 167, 168,\n",
       "       169, 170, 171, 172, 173, 174, 175, 176, 177, 178, 179, 180, 181,\n",
       "       182, 183, 184, 185, 186, 187, 188, 189, 190, 191, 192, 193, 194,\n",
       "       195, 196, 197, 198, 199, 200])"
      ]
     },
     "execution_count": 44,
     "metadata": {},
     "output_type": "execute_result"
    }
   ],
   "source": [
    "array_new"
   ]
  },
  {
   "cell_type": "code",
   "execution_count": 45,
   "id": "97b61c8b",
   "metadata": {},
   "outputs": [
    {
     "data": {
      "text/plain": [
       "dtype('int32')"
      ]
     },
     "execution_count": 45,
     "metadata": {},
     "output_type": "execute_result"
    }
   ],
   "source": [
    "array_new.dtype"
   ]
  },
  {
   "cell_type": "code",
   "execution_count": 46,
   "id": "a05b186a",
   "metadata": {},
   "outputs": [
    {
     "data": {
      "text/plain": [
       "array([[1, 2, 3],\n",
       "       [4, 5, 6],\n",
       "       [7, 8, 9]])"
      ]
     },
     "execution_count": 46,
     "metadata": {},
     "output_type": "execute_result"
    }
   ],
   "source": [
    "new_arr"
   ]
  },
  {
   "cell_type": "code",
   "execution_count": 47,
   "id": "4f209153",
   "metadata": {},
   "outputs": [
    {
     "data": {
      "text/plain": [
       "array([[1, 4, 7],\n",
       "       [2, 5, 8],\n",
       "       [3, 6, 9]])"
      ]
     },
     "execution_count": 47,
     "metadata": {},
     "output_type": "execute_result"
    }
   ],
   "source": [
    "new_arr.T        #returns the transposed value"
   ]
  },
  {
   "cell_type": "code",
   "execution_count": 54,
   "id": "d218a55d",
   "metadata": {},
   "outputs": [
    {
     "data": {
      "text/plain": [
       "array([[46, 59, 32, 63],\n",
       "       [ 8, 51, 55,  6],\n",
       "       [54, 19, 13, 21]])"
      ]
     },
     "execution_count": 54,
     "metadata": {},
     "output_type": "execute_result"
    }
   ],
   "source": [
    "A=np.random.randint(0,70,(3,4))\n",
    "A"
   ]
  },
  {
   "cell_type": "code",
   "execution_count": 55,
   "id": "fb483200",
   "metadata": {},
   "outputs": [
    {
     "data": {
      "text/plain": [
       "array([[44, 28, 33, 21],\n",
       "       [36, 55, 38,  8],\n",
       "       [44, 24, 10,  6]])"
      ]
     },
     "execution_count": 55,
     "metadata": {},
     "output_type": "execute_result"
    }
   ],
   "source": [
    "B=A=np.random.randint(0,70,(3,4))\n",
    "B"
   ]
  },
  {
   "cell_type": "code",
   "execution_count": 56,
   "id": "fac5cfac",
   "metadata": {},
   "outputs": [
    {
     "data": {
      "text/plain": [
       "array([[ 88,  56,  66,  42],\n",
       "       [ 72, 110,  76,  16],\n",
       "       [ 88,  48,  20,  12]])"
      ]
     },
     "execution_count": 56,
     "metadata": {},
     "output_type": "execute_result"
    }
   ],
   "source": [
    "C=A+B\n",
    "C"
   ]
  },
  {
   "cell_type": "code",
   "execution_count": 57,
   "id": "ba473d56",
   "metadata": {},
   "outputs": [
    {
     "data": {
      "text/plain": [
       "array([[0, 0, 0, 0],\n",
       "       [0, 0, 0, 0],\n",
       "       [0, 0, 0, 0]])"
      ]
     },
     "execution_count": 57,
     "metadata": {},
     "output_type": "execute_result"
    }
   ],
   "source": [
    "C=A-B\n",
    "C"
   ]
  },
  {
   "cell_type": "code",
   "execution_count": 58,
   "id": "86afdfd5",
   "metadata": {},
   "outputs": [
    {
     "data": {
      "text/plain": [
       "array([[1936,  784, 1089,  441],\n",
       "       [1296, 3025, 1444,   64],\n",
       "       [1936,  576,  100,   36]])"
      ]
     },
     "execution_count": 58,
     "metadata": {},
     "output_type": "execute_result"
    }
   ],
   "source": [
    "D=A*B\n",
    "D"
   ]
  },
  {
   "cell_type": "code",
   "execution_count": 60,
   "id": "af41b2d2",
   "metadata": {},
   "outputs": [
    {
     "data": {
      "text/plain": [
       "array([10, 11, 12, 13, 14, 15, 16, 17, 18, 19])"
      ]
     },
     "execution_count": 60,
     "metadata": {},
     "output_type": "execute_result"
    }
   ],
   "source": [
    "sample_arr=np.arange(10,20)\n",
    "sample_arr"
   ]
  },
  {
   "cell_type": "code",
   "execution_count": 61,
   "id": "0c5dd4e7",
   "metadata": {},
   "outputs": [
    {
     "data": {
      "text/plain": [
       "array([[10, 11, 12, 13, 14],\n",
       "       [15, 16, 17, 18, 19]])"
      ]
     },
     "execution_count": 61,
     "metadata": {},
     "output_type": "execute_result"
    }
   ],
   "source": [
    "sample_arr.reshape(2,5)              #reshape the rows and columns"
   ]
  },
  {
   "cell_type": "code",
   "execution_count": 62,
   "id": "7655ed9e",
   "metadata": {},
   "outputs": [
    {
     "data": {
      "text/plain": [
       "array([[10, 11],\n",
       "       [12, 13],\n",
       "       [14, 15],\n",
       "       [16, 17],\n",
       "       [18, 19]])"
      ]
     },
     "execution_count": 62,
     "metadata": {},
     "output_type": "execute_result"
    }
   ],
   "source": [
    "sample_arr.reshape(5,2) "
   ]
  },
  {
   "cell_type": "code",
   "execution_count": 63,
   "id": "6680d3a4",
   "metadata": {},
   "outputs": [
    {
     "data": {
      "text/plain": [
       "array([10, 11, 21, 13, 14, 15, 16, 17, 18, 19])"
      ]
     },
     "execution_count": 63,
     "metadata": {},
     "output_type": "execute_result"
    }
   ],
   "source": [
    "sample_arr[2]=21       #updating the values at given index\n",
    "sample_arr"
   ]
  },
  {
   "cell_type": "code",
   "execution_count": 64,
   "id": "8614a625",
   "metadata": {},
   "outputs": [
    {
     "data": {
      "text/plain": [
       "array([11, 21, 13, 14])"
      ]
     },
     "execution_count": 64,
     "metadata": {},
     "output_type": "execute_result"
    }
   ],
   "source": [
    "sample_arr[1:5]"
   ]
  },
  {
   "cell_type": "code",
   "execution_count": 65,
   "id": "587a0bb6",
   "metadata": {},
   "outputs": [
    {
     "data": {
      "text/plain": [
       "array([[1, 2, 3],\n",
       "       [4, 5, 6],\n",
       "       [7, 8, 9]])"
      ]
     },
     "execution_count": 65,
     "metadata": {},
     "output_type": "execute_result"
    }
   ],
   "source": [
    "new_arr"
   ]
  },
  {
   "cell_type": "code",
   "execution_count": 66,
   "id": "2a969ab3",
   "metadata": {},
   "outputs": [
    {
     "data": {
      "text/plain": [
       "array([[1],\n",
       "       [4],\n",
       "       [7]])"
      ]
     },
     "execution_count": 66,
     "metadata": {},
     "output_type": "execute_result"
    }
   ],
   "source": [
    "new_arr[:,:1]"
   ]
  },
  {
   "cell_type": "code",
   "execution_count": 67,
   "id": "889078af",
   "metadata": {},
   "outputs": [
    {
     "data": {
      "text/plain": [
       "array([[1, 2],\n",
       "       [4, 5],\n",
       "       [7, 8]])"
      ]
     },
     "execution_count": 67,
     "metadata": {},
     "output_type": "execute_result"
    }
   ],
   "source": [
    "new_arr[0:,:2]"
   ]
  },
  {
   "cell_type": "code",
   "execution_count": 68,
   "id": "9794d32e",
   "metadata": {},
   "outputs": [
    {
     "data": {
      "text/plain": [
       "array([0.89364148, 0.85940883, 0.88480108, 0.48386437, 0.72384143,\n",
       "       0.32262342, 0.65794326, 0.89177399, 0.98870726, 0.91217203])"
      ]
     },
     "execution_count": 68,
     "metadata": {},
     "output_type": "execute_result"
    }
   ],
   "source": [
    "np.random.random(size=10)\n"
   ]
  },
  {
   "cell_type": "code",
   "execution_count": 69,
   "id": "896522e2",
   "metadata": {},
   "outputs": [],
   "source": [
    "matrix=np.empty((3,3),dtype=int)"
   ]
  },
  {
   "cell_type": "code",
   "execution_count": 70,
   "id": "a17522c8",
   "metadata": {},
   "outputs": [
    {
     "data": {
      "text/plain": [
       "array([[          0,           1,           0],\n",
       "       [  976301616,        1076,           0],\n",
       "       [        768,         133, -1851174976]])"
      ]
     },
     "execution_count": 70,
     "metadata": {},
     "output_type": "execute_result"
    }
   ],
   "source": [
    "matrix"
   ]
  },
  {
   "cell_type": "code",
   "execution_count": 71,
   "id": "f90ca9a0",
   "metadata": {},
   "outputs": [
    {
     "data": {
      "text/plain": [
       "-1851174976"
      ]
     },
     "execution_count": 71,
     "metadata": {},
     "output_type": "execute_result"
    }
   ],
   "source": [
    "matrix[2][2]"
   ]
  },
  {
   "cell_type": "code",
   "execution_count": 72,
   "id": "8f36099e",
   "metadata": {},
   "outputs": [
    {
     "data": {
      "text/plain": [
       "0"
      ]
     },
     "execution_count": 72,
     "metadata": {},
     "output_type": "execute_result"
    }
   ],
   "source": [
    "matrix[1][2]"
   ]
  },
  {
   "cell_type": "code",
   "execution_count": 73,
   "id": "1ae0bdfc",
   "metadata": {},
   "outputs": [
    {
     "data": {
      "text/plain": [
       "array([[21, 21, 21],\n",
       "       [21, 21, 21],\n",
       "       [21, 21, 21]])"
      ]
     },
     "execution_count": 73,
     "metadata": {},
     "output_type": "execute_result"
    }
   ],
   "source": [
    "matrix[:]=21\n",
    "matrix"
   ]
  },
  {
   "cell_type": "code",
   "execution_count": 74,
   "id": "f93acd76",
   "metadata": {},
   "outputs": [
    {
     "data": {
      "text/plain": [
       "array([[1, 2, 3],\n",
       "       [4, 5, 6],\n",
       "       [7, 8, 9]])"
      ]
     },
     "execution_count": 74,
     "metadata": {},
     "output_type": "execute_result"
    }
   ],
   "source": [
    "new_arr"
   ]
  },
  {
   "cell_type": "code",
   "execution_count": 75,
   "id": "02fa2dd1",
   "metadata": {},
   "outputs": [
    {
     "data": {
      "text/plain": [
       "array([[2, 3]])"
      ]
     },
     "execution_count": 75,
     "metadata": {},
     "output_type": "execute_result"
    }
   ],
   "source": [
    "new_arr[0:1,1:3]         "
   ]
  },
  {
   "cell_type": "code",
   "execution_count": 76,
   "id": "0818104f",
   "metadata": {},
   "outputs": [],
   "source": [
    "matrix=np.full((3,3),dtype=int,fill_value=0)"
   ]
  },
  {
   "cell_type": "code",
   "execution_count": 77,
   "id": "8e9cb46e",
   "metadata": {},
   "outputs": [
    {
     "data": {
      "text/plain": [
       "array([[0, 0, 0],\n",
       "       [0, 0, 0],\n",
       "       [0, 0, 0]])"
      ]
     },
     "execution_count": 77,
     "metadata": {},
     "output_type": "execute_result"
    }
   ],
   "source": [
    "matrix"
   ]
  },
  {
   "cell_type": "code",
   "execution_count": 78,
   "id": "beae4f0b",
   "metadata": {},
   "outputs": [
    {
     "data": {
      "text/plain": [
       "(3, 3)"
      ]
     },
     "execution_count": 78,
     "metadata": {},
     "output_type": "execute_result"
    }
   ],
   "source": [
    "matrix.shape         #array attributes      \n",
    "#returns the ros and columns"
   ]
  },
  {
   "cell_type": "code",
   "execution_count": 79,
   "id": "226d0c3f",
   "metadata": {},
   "outputs": [
    {
     "data": {
      "text/plain": [
       "dtype('int32')"
      ]
     },
     "execution_count": 79,
     "metadata": {},
     "output_type": "execute_result"
    }
   ],
   "source": [
    "matrix.dtype         #returns the type"
   ]
  },
  {
   "cell_type": "code",
   "execution_count": 80,
   "id": "97b1d9ee",
   "metadata": {},
   "outputs": [
    {
     "data": {
      "text/plain": [
       "9"
      ]
     },
     "execution_count": 80,
     "metadata": {},
     "output_type": "execute_result"
    }
   ],
   "source": [
    "matrix.size        #returns the number of elements"
   ]
  },
  {
   "cell_type": "code",
   "execution_count": 81,
   "id": "7ed75af7",
   "metadata": {},
   "outputs": [
    {
     "data": {
      "text/plain": [
       "array([[1, 2, 3],\n",
       "       [4, 5, 6],\n",
       "       [7, 8, 9]])"
      ]
     },
     "execution_count": 81,
     "metadata": {},
     "output_type": "execute_result"
    }
   ],
   "source": [
    "new_arr"
   ]
  },
  {
   "cell_type": "code",
   "execution_count": 82,
   "id": "5776d271",
   "metadata": {},
   "outputs": [
    {
     "data": {
      "text/plain": [
       "array([[2.71828183e+00, 7.38905610e+00, 2.00855369e+01],\n",
       "       [5.45981500e+01, 1.48413159e+02, 4.03428793e+02],\n",
       "       [1.09663316e+03, 2.98095799e+03, 8.10308393e+03]])"
      ]
     },
     "execution_count": 82,
     "metadata": {},
     "output_type": "execute_result"
    }
   ],
   "source": [
    "np.exp(new_arr)            #exponential"
   ]
  },
  {
   "cell_type": "code",
   "execution_count": 83,
   "id": "42376d1e",
   "metadata": {},
   "outputs": [
    {
     "data": {
      "text/plain": [
       "5.0"
      ]
     },
     "execution_count": 83,
     "metadata": {},
     "output_type": "execute_result"
    }
   ],
   "source": [
    "np.mean(new_arr)                #mean"
   ]
  },
  {
   "cell_type": "code",
   "execution_count": 84,
   "id": "f3854f5f",
   "metadata": {},
   "outputs": [
    {
     "data": {
      "text/plain": [
       "6.666666666666667"
      ]
     },
     "execution_count": 84,
     "metadata": {},
     "output_type": "execute_result"
    }
   ],
   "source": [
    "np.var(new_arr)              #variance"
   ]
  },
  {
   "cell_type": "code",
   "execution_count": 85,
   "id": "58bba192",
   "metadata": {},
   "outputs": [
    {
     "data": {
      "text/plain": [
       "2.581988897471611"
      ]
     },
     "execution_count": 85,
     "metadata": {},
     "output_type": "execute_result"
    }
   ],
   "source": [
    "np.std(new_arr)              #standard deviation"
   ]
  },
  {
   "cell_type": "code",
   "execution_count": 86,
   "id": "3c1d4ca9",
   "metadata": {},
   "outputs": [
    {
     "data": {
      "text/plain": [
       "0"
      ]
     },
     "execution_count": 86,
     "metadata": {},
     "output_type": "execute_result"
    }
   ],
   "source": [
    "np.argmin(new_arr)"
   ]
  },
  {
   "cell_type": "code",
   "execution_count": 87,
   "id": "3f2bae51",
   "metadata": {
    "scrolled": false
   },
   "outputs": [
    {
     "data": {
      "text/plain": [
       "8"
      ]
     },
     "execution_count": 87,
     "metadata": {},
     "output_type": "execute_result"
    }
   ],
   "source": [
    "np.argmax(new_arr)"
   ]
  },
  {
   "cell_type": "code",
   "execution_count": 91,
   "id": "54638053",
   "metadata": {},
   "outputs": [
    {
     "data": {
      "text/plain": [
       "array([[0.87614835, 0.10763511, 0.97383871, 0.53720099, 0.68989995],\n",
       "       [0.86561839, 0.98296479, 0.28468804, 0.9568005 , 0.22170244],\n",
       "       [0.05179348, 0.46602015, 0.32233178, 0.4507942 , 0.87378814]])"
      ]
     },
     "execution_count": 91,
     "metadata": {},
     "output_type": "execute_result"
    }
   ],
   "source": [
    "the_array=np.random.rand(3,5)\n",
    "the_array"
   ]
  },
  {
   "cell_type": "code",
   "execution_count": 92,
   "id": "aae2dbd5",
   "metadata": {},
   "outputs": [
    {
     "data": {
      "text/plain": [
       "array([[0.8761, 0.1076, 0.9738, 0.5372, 0.6899],\n",
       "       [0.8656, 0.983 , 0.2847, 0.9568, 0.2217],\n",
       "       [0.0518, 0.466 , 0.3223, 0.4508, 0.8738]])"
      ]
     },
     "execution_count": 92,
     "metadata": {},
     "output_type": "execute_result"
    }
   ],
   "source": [
    "np.round(the_array,decimals=4)"
   ]
  },
  {
   "cell_type": "code",
   "execution_count": 95,
   "id": "3f350cac",
   "metadata": {},
   "outputs": [
    {
     "data": {
      "text/plain": [
       "array([0., 0., 0., 0., 0., 0., 0., 0., 0., 0.])"
      ]
     },
     "execution_count": 95,
     "metadata": {},
     "output_type": "execute_result"
    }
   ],
   "source": [
    "#create a null vector of size 10\n",
    "X=np.random.random(size=10)\n",
    "X[:]=0\n",
    "X"
   ]
  },
  {
   "cell_type": "code",
   "execution_count": 99,
   "id": "eff9c3cb",
   "metadata": {},
   "outputs": [
    {
     "data": {
      "text/plain": [
       "array([0., 0., 0., 0., 1., 1., 0., 0., 0., 0.])"
      ]
     },
     "execution_count": 99,
     "metadata": {},
     "output_type": "execute_result"
    }
   ],
   "source": [
    "#create a null vector with size 10 but fifth elemnt should be 1\n",
    "X[4]=1\n",
    "X"
   ]
  },
  {
   "cell_type": "code",
   "execution_count": 101,
   "id": "1b937cf7",
   "metadata": {},
   "outputs": [
    {
     "data": {
      "text/plain": [
       "63"
      ]
     },
     "execution_count": 101,
     "metadata": {},
     "output_type": "execute_result"
    }
   ],
   "source": [
    "#create a vector with values ranging from 10 to 65\n",
    "Y=np.random.randint(10,66)\n",
    "Y"
   ]
  },
  {
   "cell_type": "code",
   "execution_count": null,
   "id": "0af1ce11",
   "metadata": {},
   "outputs": [],
   "source": []
  }
 ],
 "metadata": {
  "kernelspec": {
   "display_name": "Python 3",
   "language": "python",
   "name": "python3"
  },
  "language_info": {
   "codemirror_mode": {
    "name": "ipython",
    "version": 3
   },
   "file_extension": ".py",
   "mimetype": "text/x-python",
   "name": "python",
   "nbconvert_exporter": "python",
   "pygments_lexer": "ipython3",
   "version": "3.8.8"
  }
 },
 "nbformat": 4,
 "nbformat_minor": 5
}
